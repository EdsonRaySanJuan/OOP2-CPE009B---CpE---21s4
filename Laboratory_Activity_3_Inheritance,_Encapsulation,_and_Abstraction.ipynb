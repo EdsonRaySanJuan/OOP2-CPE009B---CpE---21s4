{
  "nbformat": 4,
  "nbformat_minor": 0,
  "metadata": {
    "colab": {
      "provenance": [],
      "authorship_tag": "ABX9TyP2Hq0RF/aDEN13f8TXXRVo",
      "include_colab_link": true
    },
    "kernelspec": {
      "name": "python3",
      "display_name": "Python 3"
    },
    "language_info": {
      "name": "python"
    }
  },
  "cells": [
    {
      "cell_type": "markdown",
      "metadata": {
        "id": "view-in-github",
        "colab_type": "text"
      },
      "source": [
        "<a href=\"https://colab.research.google.com/github/EdsonRaySanJuan/OOP2-CPE009B---CpE---21s4/blob/main/Laboratory_Activity_3_Inheritance%2C_Encapsulation%2C_and_Abstraction.ipynb\" target=\"_parent\"><img src=\"https://colab.research.google.com/assets/colab-badge.svg\" alt=\"Open In Colab\"/></a>"
      ]
    },
    {
      "cell_type": "markdown",
      "source": [
        "Laboratory Activity 3: Inheritance, Encapsulation, and Abstraction\n",
        "\n",
        "Create a program in python that satisfies the following:\n",
        "\n",
        " Inheritance, Encapsulation, and Abstraction concept with ADT list\n",
        "Class(Employee: emp_id. emp_name, emp_address, Fulltime: allowance, rate, PartTime: rate)\n",
        "Class(Salary: salary_id, Salary, cut_off_date, days_of_work)"
      ],
      "metadata": {
        "id": "5Z8gMV80pwHA"
      }
    },
    {
      "cell_type": "code",
      "source": [
        "class Employee:\n",
        "    def __init__(self, emp_id, emp_name, emp_address):\n",
        "        self.emp_id = emp_id\n",
        "        self.emp_name = emp_name\n",
        "        self.emp_address = emp_address\n",
        "\n",
        "\n",
        "class Fulltime(Employee):\n",
        "    def __init__(self, emp_id, emp_name, emp_address, allowance, rate):\n",
        "        super().__init__(emp_id, emp_name, emp_address)\n",
        "        self._allowance = allowance\n",
        "        self._rate = rate\n",
        "\n",
        "\n",
        "class PartTime(Employee):\n",
        "    def __init__(self, emp_id, emp_name, emp_address, rate):\n",
        "        super().__init__(emp_id, emp_name, emp_address)\n",
        "        self._rate = rate\n",
        "\n",
        "\n",
        "class Salary:\n",
        "    def __init__(self, salary_id, salary, cut_off_date, days_of_work):\n",
        "        self.salary_id = salary_id\n",
        "        self.salary = salary\n",
        "        self.cut_off_date = cut_off_date\n",
        "        self.days_of_work = days_of_work\n",
        "\n",
        "# Create instances of the classes\n",
        "employee1 = Fulltime(32004, \"Eds\", \"Morong Rizal\", 5200, 45)\n",
        "employee2 = PartTime(89007, \"Son\", \"Queztion City\", 30)\n",
        "salary1 = Salary(43001, 13000, \"09-23-2024\", 15)\n",
        "\n",
        "# Print the attributes of the instances\n",
        "print(\"Employee 1 (Full Time):\")\n",
        "print(\"Employee ID: \", employee1.emp_id)\n",
        "print(\"Employee Name: \", employee1.emp_name)\n",
        "print(\"Employee Address: \", employee1.emp_address)\n",
        "print(\"Employee Allowance: \", employee1._allowance)\n",
        "print(\"Employee Rate: \", employee1._rate)\n",
        "\n",
        "print(\"\\nEmployee 2 (Part Time):\")\n",
        "print(\"Employee ID:\", employee2.emp_id)\n",
        "print(\"Employee Name:\", employee2.emp_name)\n",
        "print(\"Employee Address:\", employee2.emp_address)\n",
        "print(\"Employee Rate:\", employee2._rate)\n",
        "\n",
        "print(\"\\nSalary 1:\")\n",
        "print(\"Salary ID:\", salary1.salary_id)\n",
        "print(\"Salary:\", salary1.salary)\n",
        "print(\"Cut-off Date:\", salary1.cut_off_date)\n",
        "print(\"Days of Work:\", salary1.days_of_work)"
      ],
      "metadata": {
        "colab": {
          "base_uri": "https://localhost:8080/"
        },
        "id": "bNU973intHLM",
        "outputId": "1338ef1c-3e2b-46b7-8944-e19732866a42"
      },
      "execution_count": 21,
      "outputs": [
        {
          "output_type": "stream",
          "name": "stdout",
          "text": [
            "Employee 1 (Full Time):\n",
            "Employee ID:  32004\n",
            "Employee Name:  Eds\n",
            "Employee Address:  Morong Rizal\n",
            "Employee Allowance:  5200\n",
            "Employee Rate:  45\n",
            "\n",
            "Employee 2 (Part Time):\n",
            "Employee ID: 89007\n",
            "Employee Name: Son\n",
            "Employee Address: Queztion City\n",
            "Employee Rate: 30\n",
            "\n",
            "Salary 1:\n",
            "Salary ID: 43001\n",
            "Salary: 13000\n",
            "Cut-off Date: 09-23-2024\n",
            "Days of Work: 15\n"
          ]
        }
      ]
    }
  ]
}