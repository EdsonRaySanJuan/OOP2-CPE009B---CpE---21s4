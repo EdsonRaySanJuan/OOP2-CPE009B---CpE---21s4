{
  "nbformat": 4,
  "nbformat_minor": 0,
  "metadata": {
    "colab": {
      "provenance": [],
      "authorship_tag": "ABX9TyPnFndZ+rnlbON1o+XqLk/D",
      "include_colab_link": true
    },
    "kernelspec": {
      "name": "python3",
      "display_name": "Python 3"
    },
    "language_info": {
      "name": "python"
    }
  },
  "cells": [
    {
      "cell_type": "markdown",
      "metadata": {
        "id": "view-in-github",
        "colab_type": "text"
      },
      "source": [
        "<a href=\"https://colab.research.google.com/github/EdsonRaySanJuan/OOP2-CPE009B---CpE---21s4/blob/main/Exercise_2.ipynb\" target=\"_parent\"><img src=\"https://colab.research.google.com/assets/colab-badge.svg\" alt=\"Open In Colab\"/></a>"
      ]
    },
    {
      "cell_type": "markdown",
      "source": [
        "Example 1"
      ],
      "metadata": {
        "id": "lzNOtMoQZJoh"
      }
    },
    {
      "cell_type": "code",
      "execution_count": 1,
      "metadata": {
        "colab": {
          "base_uri": "https://localhost:8080/"
        },
        "id": "zPrjs3HeWOUf",
        "outputId": "0b24b995-ecfb-4729-cf97-546af77bb47e"
      },
      "outputs": [
        {
          "output_type": "execute_result",
          "data": {
            "text/plain": [
              "7"
            ]
          },
          "metadata": {},
          "execution_count": 1
        }
      ],
      "source": [
        "class foo:\n",
        "  def __init__(self, a ,b):\n",
        "    self.a = a\n",
        "    self.b = b\n",
        "  def add(self):\n",
        "    return self. a + self.b\n",
        "\n",
        "foo_object = foo(3, 4)\n",
        "foo_object.add()"
      ]
    },
    {
      "cell_type": "markdown",
      "source": [
        "Example 2\n"
      ],
      "metadata": {
        "id": "8gCLmapZZLuP"
      }
    },
    {
      "cell_type": "code",
      "source": [
        "class Counter:\n",
        "  def __init__(self):\n",
        "    self.count = 0\n",
        "  def increment(self):\n",
        "    self.count += 1\n",
        "  def value(self):\n",
        "    return self.current\n",
        "  def reset(self):\n",
        "    self.current = 0"
      ],
      "metadata": {
        "id": "F0Zyv0WzZNt2"
      },
      "execution_count": 2,
      "outputs": []
    },
    {
      "cell_type": "markdown",
      "source": [
        "Modified Example 2"
      ],
      "metadata": {
        "id": "gqRyTFH-g4Kh"
      }
    },
    {
      "cell_type": "code",
      "source": [
        "#Example 2\n",
        "#Complete the program by adding object name and\n",
        "#print output variable that display the instance/behavior of every function\n",
        "#Apply encapsulation by typing _ single underscore for private variable\n",
        "\n",
        "class Counter:\n",
        "  def __init__(self):\n",
        "    self._current = 0\n",
        "\n",
        "  def increment (self):\n",
        "    self._current += 1\n",
        "    return self._current\n",
        "\n",
        "  def decrement (self):\n",
        "    self._current -= 1\n",
        "    return self._current\n",
        "\n",
        "  def reset (self):\n",
        "    self._current = 0\n",
        "    return self._current\n",
        "\n",
        "  def get_current(self):\n",
        "      return self._current\n",
        "\n",
        "count = Counter()\n",
        "print(\"Increment Value: \",count.increment())\n",
        "print(\"Current Value: \",count._current)\n",
        "count.increment()\n",
        "count.increment()\n",
        "print(\"Increment Value: \",count.increment())\n",
        "print(\"Reset: \",count.reset())\n",
        "print(\"Increment Value: \",count.increment())\n",
        "print(\"Get Current: \", count.get_current())"
      ],
      "metadata": {
        "colab": {
          "base_uri": "https://localhost:8080/"
        },
        "id": "FA2D3V9PaOk6",
        "outputId": "e9e521a0-368d-4f8f-8cae-efeaf318a0ba"
      },
      "execution_count": 23,
      "outputs": [
        {
          "output_type": "stream",
          "name": "stdout",
          "text": [
            "Increment Value:  1\n",
            "Current Value:  1\n",
            "Increment Value:  4\n",
            "Reset:  0\n",
            "Increment Value:  1\n",
            "Get Current:  1\n"
          ]
        }
      ]
    }
  ]
}