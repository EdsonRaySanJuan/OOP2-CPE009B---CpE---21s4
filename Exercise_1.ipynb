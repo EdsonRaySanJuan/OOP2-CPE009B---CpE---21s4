{
  "cells": [
    {
      "cell_type": "markdown",
      "metadata": {
        "id": "view-in-github",
        "colab_type": "text"
      },
      "source": [
        "<a href=\"https://colab.research.google.com/github/EdsonRaySanJuan/OOP2-CPE009B---CpE---21s4/blob/main/Exercise_1.ipynb\" target=\"_parent\"><img src=\"https://colab.research.google.com/assets/colab-badge.svg\" alt=\"Open In Colab\"/></a>"
      ]
    },
    {
      "cell_type": "code",
      "execution_count": 43,
      "metadata": {
        "colab": {
          "base_uri": "https://localhost:8080/"
        },
        "id": "-rZcCtw5Fjwf",
        "outputId": "78652408-3bc5-4544-d289-3a6e26b3eca5"
      },
      "outputs": [
        {
          "output_type": "stream",
          "name": "stdout",
          "text": [
            "My name is Anna with an age of 19 and birthdate of January 3, 2005\n",
            "My name is Mark with an age of 20 and birthdate of April 7, 2004\n",
            "My name is Edson with an age of 19 and birthdate of Febuary 13, 2005\n"
          ]
        }
      ],
      "source": [
        "# Class constructor\n",
        "class Person:     #Super Class/ Parent Class\n",
        "  def __init__(self, name, age, birthdate):\n",
        "    self.name = name\n",
        "    self.age = age\n",
        "    self.birthdate = birthdate      # defining attributes and identity\n",
        "  def person_attribute(self):       #method constructor\n",
        "    return f\"My name is {self.name} with an age of {self.age} and birthdate of {self.birthdate}\"\n",
        "\n",
        "class Teacher(Person):    #Sub Class\n",
        "  pass\n",
        "class Student(Person):\n",
        "  pass                    # Subclass Constructor\n",
        "\n",
        "     # Object instantation\n",
        "p1 = Person(\"Anna\", 19, \"January 3, 2005\")\n",
        "print(p1.person_attribute())\n",
        "student = Student(\"Mark\", 20, \"April 7, 2004\")\n",
        "print(student.person_attribute())\n",
        "teacher = Teacher(\"Edson\", 19, \"Febuary 13, 2005\")\n",
        "print(teacher.person_attribute())"
      ]
    },
    {
      "cell_type": "markdown",
      "source": [],
      "metadata": {
        "id": "oIxgfLUxTtUr"
      }
    },
    {
      "cell_type": "markdown",
      "source": [
        "# **Challenging Python Problem**"
      ],
      "metadata": {
        "id": "mCWD51ABTn_7"
      }
    },
    {
      "cell_type": "markdown",
      "source": [
        "**Create a python prgram that has the following:**"
      ],
      "metadata": {
        "id": "uRopiXmrTyYb"
      }
    },
    {
      "cell_type": "code",
      "source": [
        "class Shapes():                                 #1. Super Class named as Shapes()\n",
        "  def __init__(self, side):                     #5. Inherit\n",
        "    self.side = side\n",
        "\n",
        "  def Perimeter(self):\n",
        "    pass\n",
        "  def Area(self):\n",
        "    pass\n",
        "class Rectangle(Shapes):                       #4. Object Name: Rectangle()\n",
        "  def __init__(self, length, width):           #2. Sub Class named as Rectangle()\n",
        "    super().__init__(side = 0)                 #5. Inherits the attributes of Superclass\n",
        "    self.length = length\n",
        "    self.width = width\n",
        "  def Perimeter(self):                         #3. Methods: Perimeter() & Area()\n",
        "    return (self.length + self.width) * 2\n",
        "  def Area(self):\n",
        "    return self.length * self.width\n",
        "\n",
        "class Square(Shapes):                          #4. Object Name: Square()\n",
        "  def __init__(self, side):                    #2. Sub Class named as Rectangle()\n",
        "    super().__init__(side = side)              #5. Inherits the attributes of Superclass\n",
        "  def Perimeter(self):                         #3. Methods: Perimeter() & Area()\n",
        "    return self.side * 4\n",
        "  def Area(self):\n",
        "    return self.side * self.side\n",
        "\n",
        "rectangle = Rectangle(1, 1.5)\n",
        "print(\"The area of the Rectangle is \", rectangle.Area())\n",
        "print(\"The perimeter of the Rectangle is \", rectangle.Perimeter())\n",
        "square = Square(15)\n",
        "print(\"The area of the Square is \", square.Area())\n",
        "print(\"The perimeter of the Square is \", square.Perimeter())\n",
        "\n",
        "\n"
      ],
      "metadata": {
        "colab": {
          "base_uri": "https://localhost:8080/"
        },
        "id": "2Lyjqv8bTm1L",
        "outputId": "10010469-9e09-4658-c29a-478b70b794c3"
      },
      "execution_count": 67,
      "outputs": [
        {
          "output_type": "stream",
          "name": "stdout",
          "text": [
            "The area of the Rectangle is  1.5\n",
            "The perimeter of the Rectangle is  5.0\n",
            "The area of the Square is  225\n",
            "The perimeter of the Square is  60\n"
          ]
        }
      ]
    }
  ],
  "metadata": {
    "colab": {
      "provenance": [],
      "authorship_tag": "ABX9TyOntAqvdcIKBbfu+yVxC5bE",
      "include_colab_link": true
    },
    "kernelspec": {
      "display_name": "Python 3",
      "name": "python3"
    },
    "language_info": {
      "name": "python"
    }
  },
  "nbformat": 4,
  "nbformat_minor": 0
}